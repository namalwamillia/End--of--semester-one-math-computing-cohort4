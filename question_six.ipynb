{
 "cells": [
  {
   "cell_type": "code",
   "execution_count": null,
   "metadata": {},
   "outputs": [],
   "source": [
    "pip install numpy   # type: ignore\n"
   ]
  },
  {
   "cell_type": "code",
   "execution_count": null,
   "metadata": {},
   "outputs": [],
   "source": [
    "#Qn6 Daily customer  arrival follow a poison distribution with average of 5\n",
    "import numpy as np # type: ignore\n"
   ]
  },
  {
   "cell_type": "markdown",
   "metadata": {},
   "source": [
    "(i) Generating  1000 random samples from the Poisson distribution"
   ]
  },
  {
   "cell_type": "code",
   "execution_count": 3,
   "metadata": {},
   "outputs": [],
   "source": [
    "#average number of customers per day (lambda)\n",
    "lambda_value = 5\n"
   ]
  },
  {
   "cell_type": "code",
   "execution_count": 4,
   "metadata": {},
   "outputs": [
    {
     "name": "stdout",
     "output_type": "stream",
     "text": [
      "[ 5  6  6  7  8  8  4  6  4  5  8  2  4  3  5  5  5  2  7  8  4  0  6  9\n",
      "  6  3  8  3  6  4  6  4  8  5  1 10  3  3  8  9  5 10  8  4  1  3  7  7\n",
      "  8  3  7  4  4  4  8  3  4  3  3  2  3  6  3  4  6  2  8  3  6  1  1  4\n",
      "  3 10  4  4  3  5  2  5  6  7  3  5  8  3  4  3  4  0  7  8  4  3  8  5\n",
      "  0  4  2  4  8  3  4  3  4  3  4  4  6  2  6  4  3  8  3  5  6  4  3  7\n",
      "  4  7  5  6 11  2  2  3  3  6  3  4  5  9  6  8  7  4  6 10  2  8 10  3\n",
      "  5  2  1  5  3  5  8 11  7  8  7  7  5  1  3  6  2  6  2  7  0  3  5  5\n",
      "  4  4  6  8  6  9  8  5  2  4  5 10  2  5  7  6  9  6  2  5  3  5  5  6\n",
      "  4  6  4  6  6  4  7  5  2  6 12  5  2  5  5  3  4  4  5  5  3  6  4  2\n",
      "  5  9  5  6  5  6  9  4  4  6  0  3  3  6  3  5  6  5  2  8  4 14  5  4\n",
      "  7  4  5  3  3  5  7  3  4  6  3  4  5  4  3  4  4  2  2  2  5  6  2  4\n",
      "  7  4  7  5  8  4  6  3  8  6 10  5  7  3  6  6  8  4  4  4  4  6  1  4\n",
      "  5  8 13  3  3  8  6  1  4  9  3  8  7  3  4  1  3  4  5  4  6  2  3  6\n",
      "  4  6  6  9  1  5  7 11 12  7  4  0  7  2  4  3  7  4  5  3  3  5  2  6\n",
      "  3  3  3  9  6  2  3  8  8  3 10  3  6  4  4  8  5  3  4  7  9  7  3  7\n",
      "  3  3  4  5  5  4  4  4  1  3  3  4  3  5  7 10  3  4  7  2  9  3  8  6\n",
      "  3  4  4  0  4  3  5  5  2  5  7  8  6  9  4  2  4  7  8  3  4  8  1  5\n",
      "  4  3  5  4  6  2  7  4  2  3  5  5  3  4  4  3  2  6  5  6  5  4  4  4\n",
      "  6  8  8  2  4  4  6  4  5  4  6  3  4  5  5  4  5  5  7  4  6  8  7  5\n",
      "  2  5  5  7  2  8  7  3  6  8  3  3  8  2  8  5  8  6  7  5  1  7  3  6\n",
      "  3  3  5  5  5  3  4  2  1  5  4  6  6  6  9  2  5  6  6 11  4  4  6  2\n",
      "  8  2  4  6  4  5  2  8  3  5  2  3  4  6  4  4  6  5  5  9  9  5  7  5\n",
      "  7  5  5  6  1  5  5  2  5  3  4  3  5  7  6  8  5  8  4  8  3  0  2  6\n",
      "  3 12  1  4  5  2  2  7  3  6  1  6  4  6  7  3  8  5  3  6  5  0  4 11\n",
      "  5  4  5  2  2  4  4  6  6  3  4  8  4  6  6  3  6  5  6  7  4  3  2  5\n",
      " 12  4  3  7  4  4  5  5  2  6  4  9  3  6  3  7  7  5  6  8  5  8  5  3\n",
      "  5  5  5  8  6  3  3  6  5  6  9  4  6  7  9 11  5  4  2  7  6  3  4  4\n",
      "  7  6  4  5  4  6  8  5  6  5  2  2  6  6 10  9  2  5  5  5  6  2  5  4\n",
      "  6  2  3  4  3  6  9  7  5  2  2  8  4  1  5  8  3  7  2  3  4  3  4  6\n",
      " 10  1  2  4  6  3  7  5  4  6  5  3  6  0  2  4  4  6  3  3  3  6  1  7\n",
      "  4  5  5  7  2  4  6  5  5  4  3  5  3  4  3  7  7  3  3  4  6  5  6  4\n",
      "  3  6  3  4  7  8  3  4  5 10  1  2  6  4  7  7  7  5  2  6  4  4  5  1\n",
      "  1  5  4  5  3  6  8  2  8  2  6  3  5  7  3  3  4  4  3  5  3  5  5  4\n",
      "  3 10  5  3  5  8  5  7  4  3 12  6  7  5  5  3  6  5  9  5 10  4  8  6\n",
      "  8  4  5  3  1  2  2  5  4  6  3  3  6  4  8  6  7  6  5  5  6  7  7  3\n",
      "  6  9  5  6  7  4 12  6  3  4  7  6  2  4  6  8  3  2  2  3  3  2  7  3\n",
      "  6  4  6  5  6  5  4  5  5  6  7  7  5  8  5  7  4  2  2  6  4  4  6  4\n",
      "  3  7  4  0  2  4  3  1  8  4  5  4  5  3  6  4  6  3  5  3  3  2  6 10\n",
      " 10  8  1  6  4  6  0  2  2  6  6  4  2  7  5  6  7  5  6  2  9  2  9  5\n",
      "  4  3 10  7  3  9  6  4  5  8  3  5  6  3  7  8  4  3  5  1  6  1  5  4\n",
      "  6  5  3  8  4  6  2  5  5  4  5  5  4  7  8  7  4  5  9  2  5  6  8  7\n",
      "  1  6  9  3  2  4  4  2  5  6  2  9  6  2  7  9]\n"
     ]
    }
   ],
   "source": [
    "# Generated 1000 random samples from the Poisson distribution\n",
    "samples = np.random.poisson(lam = lambda_value, size=1000)\n",
    "print(samples)"
   ]
  },
  {
   "cell_type": "markdown",
   "metadata": {},
   "source": [
    "(ii) Calculating the mean and varience of the samples below"
   ]
  },
  {
   "cell_type": "code",
   "execution_count": 5,
   "metadata": {},
   "outputs": [
    {
     "name": "stdout",
     "output_type": "stream",
     "text": [
      "The Mean of the sample is: 4.91\n"
     ]
    }
   ],
   "source": [
    "# (ii) calculated and printed  mean \n",
    "mean_of_sample= np.mean(samples)\n",
    "\n",
    "print(\"The Mean of the sample is:\", mean_of_sample)"
   ]
  },
  {
   "cell_type": "code",
   "execution_count": 6,
   "metadata": {},
   "outputs": [
    {
     "name": "stdout",
     "output_type": "stream",
     "text": [
      "The valience of the sample is: 5.0519\n"
     ]
    }
   ],
   "source": [
    "#calculated variance of the samples\n",
    "variance_of_sample = np.var(samples)\n",
    "\n",
    "print(f\"The valience of the sample is:\", variance_of_sample)"
   ]
  },
  {
   "cell_type": "markdown",
   "metadata": {},
   "source": [
    "(ii) Plotting a Histogram of customer arrival samples."
   ]
  },
  {
   "cell_type": "code",
   "execution_count": null,
   "metadata": {},
   "outputs": [],
   "source": [
    "pip install numpy matplotlib  # type: ignore\n"
   ]
  },
  {
   "cell_type": "code",
   "execution_count": null,
   "metadata": {},
   "outputs": [],
   "source": [
    "import matplotlib.pyplot as plt # type: ignore"
   ]
  },
  {
   "cell_type": "code",
   "execution_count": 13,
   "metadata": {},
   "outputs": [
    {
     "data": {
      "image/png": "[encoded data removed]",
      "text/plain": [
       "<Figure size 640x480 with 1 Axes>"
      ]
     },
     "metadata": {},
     "output_type": "display_data"
    }
   ],
   "source": [
    "#(iii) Visualization of the Distibution as a Histogram\n",
    "\n",
    "plt.hist(samples, bins=15, alpha=0.6, color='orange')\n",
    "plt.xlabel('Number of Customers')\n",
    "plt.ylabel('Probability')\n",
    "plt.title('The Histogram  below shows Poisson Distribution (λ=5) of the Samples')\n",
    "plt.show()"
   ]
  }
 ],
 "metadata": {
  "kernelspec": {
   "display_name": "base",
   "language": "python",
   "name": "python3"
  },
  "language_info": {
   "codemirror_mode": {
    "name": "ipython",
    "version": 3
   },
   "file_extension": ".py",
   "mimetype": "text/x-python",
   "name": "python",
   "nbconvert_exporter": "python",
   "pygments_lexer": "ipython3",
   "version": "3.11.7"
  }
 },
 "nbformat": 4,
 "nbformat_minor": 2
}
